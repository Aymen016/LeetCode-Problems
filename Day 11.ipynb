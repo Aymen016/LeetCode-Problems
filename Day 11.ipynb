{
 "cells": [
  {
   "cell_type": "markdown",
   "id": "dec167a6",
   "metadata": {},
   "source": [
    "## Maximum Number of Vowels in a Substring of Given Length"
   ]
  },
  {
   "cell_type": "markdown",
   "id": "8af33038",
   "metadata": {},
   "source": [
    " Given a string s and an integer k, return the maximum number of vowel letters in any substring of s with length k.\n",
    "\n",
    "Vowel letters in English are 'a', 'e', 'i', 'o', and 'u'."
   ]
  },
  {
   "cell_type": "code",
   "execution_count": 64,
   "id": "a7197d4c",
   "metadata": {},
   "outputs": [
    {
     "name": "stdout",
     "output_type": "stream",
     "text": [
      "3\n"
     ]
    }
   ],
   "source": [
    "def vow(s, k):\n",
    "    current_vowels = 0\n",
    "    vowels = ['a','e','i','o','u']\n",
    "    for ele in s[:k] :\n",
    "        if ele in vowels :\n",
    "            current_vowels += 1\n",
    "    max_vowels = current_vowels\n",
    "    \n",
    "    for i in range(k, len(s)):\n",
    "        if s[i - k] in vowels:\n",
    "            current_vowels -= 1\n",
    "        if s[i] in vowels:\n",
    "            current_vowels += 1\n",
    "        max_vowels = max(max_vowels, current_vowels)\n",
    "\n",
    "    return max_vowels\n",
    "\n",
    "    \n",
    "\n",
    "    \n",
    "s = \"abciiidef\"\n",
    "k = 3\n",
    "print(vow(s, k))"
   ]
  },
  {
   "cell_type": "code",
   "execution_count": null,
   "id": "9e49d1ce",
   "metadata": {},
   "outputs": [],
   "source": []
  }
 ],
 "metadata": {
  "kernelspec": {
   "display_name": "Python 3 (ipykernel)",
   "language": "python",
   "name": "python3"
  },
  "language_info": {
   "codemirror_mode": {
    "name": "ipython",
    "version": 3
   },
   "file_extension": ".py",
   "mimetype": "text/x-python",
   "name": "python",
   "nbconvert_exporter": "python",
   "pygments_lexer": "ipython3",
   "version": "3.11.5"
  }
 },
 "nbformat": 4,
 "nbformat_minor": 5
}
