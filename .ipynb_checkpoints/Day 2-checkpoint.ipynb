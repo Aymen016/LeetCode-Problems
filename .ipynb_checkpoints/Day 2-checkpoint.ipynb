{
 "cells": [
  {
   "cell_type": "markdown",
   "id": "3b84fbcf",
   "metadata": {},
   "source": [
    "## 3Sum"
   ]
  },
  {
   "cell_type": "markdown",
   "id": "96688b4c",
   "metadata": {},
   "source": [
    "Given an integer array nums, return all the triplets [nums[i], nums[j], nums[k]] such that i != j, i != k, and j != k, and nums[i] + nums[j] + nums[k] == 0.<br>\n",
    "Notice that the solution set must not contain duplicate triplets."
   ]
  },
  {
   "cell_type": "code",
   "execution_count": 56,
   "id": "9188ded3",
   "metadata": {},
   "outputs": [
    {
     "data": {
      "text/plain": [
       "[[-1, -1, 2], [-1, 0, 1]]"
      ]
     },
     "execution_count": 56,
     "metadata": {},
     "output_type": "execute_result"
    }
   ],
   "source": [
    "def sum3(nums):\n",
    "    l=[]\n",
    "    nums.sort()\n",
    "    for ele in range(len(nums)):\n",
    "        x = nums[ele]\n",
    "        for i in range(ele+1,len(nums)):\n",
    "            y = nums[i]\n",
    "            for j in range(i+1,len(nums)):\n",
    "                z = nums[j]\n",
    "                sum = x+y+z\n",
    "                if sum == 0 and ele != i and ele != j and i != j:\n",
    "                    l.append([x,y,z])\n",
    "\n",
    "\n",
    "    if l==[]:\n",
    "        return ' '\n",
    "    else :\n",
    "        uni = []\n",
    "        for li in l:\n",
    "            if li not in uni:\n",
    "                uni.append(li)\n",
    "        return uni\n",
    "\n",
    "nums = [-1,0,1,2,-1,-4]\n",
    "sum3(nums)"
   ]
  },
  {
   "cell_type": "code",
   "execution_count": null,
   "id": "32f4a893",
   "metadata": {},
   "outputs": [],
   "source": []
  }
 ],
 "metadata": {
  "kernelspec": {
   "display_name": "Python 3 (ipykernel)",
   "language": "python",
   "name": "python3"
  },
  "language_info": {
   "codemirror_mode": {
    "name": "ipython",
    "version": 3
   },
   "file_extension": ".py",
   "mimetype": "text/x-python",
   "name": "python",
   "nbconvert_exporter": "python",
   "pygments_lexer": "ipython3",
   "version": "3.11.5"
  }
 },
 "nbformat": 4,
 "nbformat_minor": 5
}
