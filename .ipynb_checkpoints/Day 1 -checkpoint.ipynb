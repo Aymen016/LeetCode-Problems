{
 "cells": [
  {
   "cell_type": "markdown",
   "id": "d5dd4b81",
   "metadata": {},
   "source": [
    "## Palindrome Numbers"
   ]
  },
  {
   "cell_type": "markdown",
   "id": "0a28eda7",
   "metadata": {},
   "source": [
    " To determine if an integer is a palindrome, you can convert it to a string and check if the string is equal to its reverse."
   ]
  },
  {
   "cell_type": "code",
   "execution_count": null,
   "id": "0000f9af",
   "metadata": {},
   "outputs": [],
   "source": [
    "def isPalindrome(x) :\n",
    "        new = str(x)\n",
    "        reverse = new[::-1]\n",
    "        return reverse == new\n",
    "isPalindrome(-121)"
   ]
  },
  {
   "cell_type": "markdown",
   "id": "7166cddf",
   "metadata": {},
   "source": [
    "## Two Sum Problem"
   ]
  },
  {
   "cell_type": "markdown",
   "id": "caed15d6",
   "metadata": {},
   "source": [
    "The problem statement is asking to find two numbers in an array such that their sum equals a given target. Specifically, given an array of integers nums and an integer target, the task is to return the indices of the two numbers in the array such that they add up to the target.\n",
    "\n",
    "The constraints for the problem are:\n",
    "\n",
    "<ul><li>Each input array nums will have exactly one solution.</li>\n",
    "    <li>You may not use the same element twice to form the sum.</li>\n",
    "    <li>You can return the answer in any order.</li></ul>"
   ]
  },
  {
   "cell_type": "code",
   "execution_count": 3,
   "id": "625568b7",
   "metadata": {},
   "outputs": [
    {
     "name": "stdout",
     "output_type": "stream",
     "text": [
      "[0, 1]\n"
     ]
    }
   ],
   "source": [
    "def twoSum(nums, target) :\n",
    "        for i in range(len(nums)):\n",
    "            for j in range(i+1,len(nums)):\n",
    "                x = nums[i]\n",
    "                if x + nums[j] == target:\n",
    "                    return [i,j]\n",
    "                \n",
    "listt = [1,2,3]\n",
    "t = 3\n",
    "print(twoSum(listt, t))\n"
   ]
  },
  {
   "cell_type": "markdown",
   "id": "14038601",
   "metadata": {},
   "source": [
    "## Roman to Integer"
   ]
  },
  {
   "cell_type": "markdown",
   "id": "7dbec0a8",
   "metadata": {},
   "source": [
    "Convert a Roman numeral to an integer."
   ]
  },
  {
   "cell_type": "code",
   "execution_count": 2,
   "id": "fb618a9f",
   "metadata": {},
   "outputs": [
    {
     "data": {
      "text/plain": [
       "1994"
      ]
     },
     "execution_count": 2,
     "metadata": {},
     "output_type": "execute_result"
    }
   ],
   "source": [
    "def romanToInt(s):\n",
    "    symbols = {'I':1,'V':5,'X':10,'L':50,'C':100,'D':500,'M':1000,'IV':4,'IX':9,'XL':40,'XC':90,'CD':400,'CM':900}\n",
    "    total = 0\n",
    "    i = 0\n",
    "    while i < len(s):        # Check if the current and next characters form a special case\n",
    "        if i < len(s) - 1 and s[i:i+2] in symbols:\n",
    "            total += symbols[s[i:i+2]]\n",
    "            i += 2\n",
    "        else:\n",
    "            # Handle the case when there's only one character left in the string\n",
    "            total += symbols[s[i]]\n",
    "            i += 1\n",
    "    return total\n",
    "romanToInt('MCMXCIV')"
   ]
  }
 ],
 "metadata": {
  "kernelspec": {
   "display_name": "Python 3 (ipykernel)",
   "language": "python",
   "name": "python3"
  },
  "language_info": {
   "codemirror_mode": {
    "name": "ipython",
    "version": 3
   },
   "file_extension": ".py",
   "mimetype": "text/x-python",
   "name": "python",
   "nbconvert_exporter": "python",
   "pygments_lexer": "ipython3",
   "version": "3.11.5"
  }
 },
 "nbformat": 4,
 "nbformat_minor": 5
}
