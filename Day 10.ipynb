{
 "cells": [
  {
   "cell_type": "markdown",
   "id": "6b39919e",
   "metadata": {},
   "source": [
    "## Find the Highest Altitude"
   ]
  },
  {
   "cell_type": "markdown",
   "id": "489b79ec",
   "metadata": {},
   "source": [
    "There is a biker going on a road trip. The road trip consists of n + 1 points at different altitudes. The biker starts his trip on point 0 with altitude equal 0.\n",
    "\n",
    "You are given an integer array gain of length n where gain[i] is the net gain in altitude between points i​​​​​​ and i + 1 for all (0 <= i < n). Return the highest altitude of a point."
   ]
  },
  {
   "cell_type": "code",
   "execution_count": 16,
   "id": "9c9dbad1",
   "metadata": {},
   "outputs": [
    {
     "name": "stdout",
     "output_type": "stream",
     "text": [
      "0\n"
     ]
    }
   ],
   "source": [
    "def largestAltitude(gain):\n",
    "    gain.insert(0,0)\n",
    "    sum = 0\n",
    "    prefix_sum = []\n",
    "    for i in range(len(gain)):\n",
    "        sum += gain[i]\n",
    "        prefix_sum.append(sum)\n",
    "    return max(prefix_sum)\n",
    "\n",
    "gain = [-4,-3,-2,-1,4,3,2]\n",
    "print(al(gain))"
   ]
  },
  {
   "cell_type": "code",
   "execution_count": null,
   "id": "eb4949b8",
   "metadata": {},
   "outputs": [],
   "source": []
  }
 ],
 "metadata": {
  "kernelspec": {
   "display_name": "Python 3 (ipykernel)",
   "language": "python",
   "name": "python3"
  },
  "language_info": {
   "codemirror_mode": {
    "name": "ipython",
    "version": 3
   },
   "file_extension": ".py",
   "mimetype": "text/x-python",
   "name": "python",
   "nbconvert_exporter": "python",
   "pygments_lexer": "ipython3",
   "version": "3.11.5"
  }
 },
 "nbformat": 4,
 "nbformat_minor": 5
}
