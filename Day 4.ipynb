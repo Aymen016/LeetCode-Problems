{
 "cells": [
  {
   "cell_type": "code",
   "execution_count": 66,
   "id": "a4fdeabd",
   "metadata": {},
   "outputs": [
    {
     "name": "stdout",
     "output_type": "stream",
     "text": [
      "4 3\n",
      "True\n"
     ]
    }
   ],
   "source": [
    "def flower(l,n):\n",
    "    ones = l.count(1)+n\n",
    "\n",
    "    zeros = l.count(0)-n\n",
    "    print(ones,zeros)\n",
    "    if zeros >= ones-1:\n",
    "        return True\n",
    "    else:\n",
    "        return False\n",
    "    \n",
    "l = [1,0,0,0,0,0,1]\n",
    "n = 2\n",
    "print(flower(l,n))"
   ]
  },
  {
   "cell_type": "code",
   "execution_count": null,
   "id": "e8071ba8",
   "metadata": {},
   "outputs": [],
   "source": []
  },
  {
   "cell_type": "code",
   "execution_count": 34,
   "id": "a0fd2404",
   "metadata": {},
   "outputs": [],
   "source": [
    "def moveZeroes(nums) :\n",
    "        \"\"\"\n",
    "        Do not return anything, modify nums in-place instead.\n",
    "        \"\"\"\n",
    "       \n",
    "        zero = nums.count(0)\n",
    "        for i in range(zero):\n",
    "            nums.remove(0)\n",
    "        nums.sort()\n",
    "        \n",
    "        for k in range(zero):\n",
    "            nums.append(0)\n",
    "        \n",
    "nums = [0,1,0,3,12]\n",
    "moveZeroes(nums)"
   ]
  },
  {
   "cell_type": "code",
   "execution_count": null,
   "id": "e96c8289",
   "metadata": {},
   "outputs": [],
   "source": []
  },
  {
   "cell_type": "code",
   "execution_count": null,
   "id": "29ca8301",
   "metadata": {},
   "outputs": [],
   "source": []
  }
 ],
 "metadata": {
  "kernelspec": {
   "display_name": "Python 3 (ipykernel)",
   "language": "python",
   "name": "python3"
  },
  "language_info": {
   "codemirror_mode": {
    "name": "ipython",
    "version": 3
   },
   "file_extension": ".py",
   "mimetype": "text/x-python",
   "name": "python",
   "nbconvert_exporter": "python",
   "pygments_lexer": "ipython3",
   "version": "3.11.5"
  }
 },
 "nbformat": 4,
 "nbformat_minor": 5
}
