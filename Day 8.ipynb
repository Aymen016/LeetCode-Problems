{
 "cells": [
  {
   "cell_type": "markdown",
   "id": "20897e86",
   "metadata": {},
   "source": [
    "## Reverse Vowels of a String"
   ]
  },
  {
   "cell_type": "markdown",
   "id": "e5364b19",
   "metadata": {},
   "source": [
    "Given a string s, reverse only all the vowels in the string and return it.\n",
    "\n",
    "The vowels are 'a', 'e', 'i', 'o', and 'u', and they can appear in both lower and upper cases, more than once."
   ]
  },
  {
   "cell_type": "code",
   "execution_count": 13,
   "id": "1fc3918c",
   "metadata": {},
   "outputs": [
    {
     "data": {
      "text/plain": [
       "'holle'"
      ]
     },
     "execution_count": 13,
     "metadata": {},
     "output_type": "execute_result"
    }
   ],
   "source": [
    "def vowels(string):\n",
    "    vowels = ['A','E','I','O','U','a','e','i','o','u']\n",
    "    vowels_in_string = []\n",
    "    for ele in string :\n",
    "        if ele in vowels :\n",
    "            vowels_in_string.append(ele)\n",
    "    vowels_in_string.reverse()\n",
    "    string = list(string)\n",
    "    j = 0\n",
    "    for i in range(len(string)):\n",
    "        if string[i] in vowels :\n",
    "            string[i] = vowels_in_string[j]\n",
    "            j += 1\n",
    "    return ''.join(string)\n",
    "s = \"hello\"\n",
    "vowels(s)"
   ]
  },
  {
   "cell_type": "markdown",
   "id": "6e770f1c",
   "metadata": {},
   "source": [
    "<h2> Explanation:</h2>\n",
    "\n",
    "<ol>\n",
    "    <li>The vowels function takes a string string as input and returns a new string with its vowels reversed.</li>\n",
    "\n",
    "    <li>It initializes a list vowels containing both uppercase and lowercase vowels.</li>\n",
    "\n",
    "    <li>It iterates over each character in the input string (string) and identifies vowels by checking if the character is present in the vowels list. It stores these vowels in the list vowels_in_string.</li>\n",
    "\n",
    "    <li>After collecting all the vowels, it reverses the order of vowels in vowels_in_string.</li>\n",
    "\n",
    "    <li>It converts the input string into a list of characters to facilitate replacement.</li>\n",
    "\n",
    "<li>It iterates over each character in the input string again. If the character is a vowel, it replaces it with the corresponding vowel from the reversed vowels_in_string list.</li>\n",
    "\n",
    "    <li>Finally, it joins the list of characters back into a string and returns the result.</li></ol>\n",
    "\n",
    "The example usage demonstrates how to use the function with a sample string 'hello', resulting in the reversed vowels string 'holle'."
   ]
  },
  {
   "cell_type": "code",
   "execution_count": null,
   "id": "d1de4db7",
   "metadata": {},
   "outputs": [],
   "source": []
  }
 ],
 "metadata": {
  "kernelspec": {
   "display_name": "Python 3 (ipykernel)",
   "language": "python",
   "name": "python3"
  },
  "language_info": {
   "codemirror_mode": {
    "name": "ipython",
    "version": 3
   },
   "file_extension": ".py",
   "mimetype": "text/x-python",
   "name": "python",
   "nbconvert_exporter": "python",
   "pygments_lexer": "ipython3",
   "version": "3.11.5"
  }
 },
 "nbformat": 4,
 "nbformat_minor": 5
}
