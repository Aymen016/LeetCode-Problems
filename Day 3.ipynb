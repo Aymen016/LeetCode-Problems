{
 "cells": [
  {
   "cell_type": "markdown",
   "id": "1c9f4935",
   "metadata": {},
   "source": [
    "## Merge Strings Alternately"
   ]
  },
  {
   "cell_type": "markdown",
   "id": "024ca6cd",
   "metadata": {},
   "source": [
    "You are given two strings word1 and word2. Merge the strings by adding letters in alternating order, starting with word1. If a string is longer than the other, append the additional letters onto the end of the merged string.\n",
    "\n",
    "Return the merged string.\n",
    "\n",
    " "
   ]
  },
  {
   "cell_type": "code",
   "execution_count": 26,
   "id": "d65399db",
   "metadata": {},
   "outputs": [
    {
     "name": "stdout",
     "output_type": "stream",
     "text": [
      "apbqcd\n"
     ]
    }
   ],
   "source": [
    "def merge(word1,word2):\n",
    "    string =''\n",
    "    min_length = min(len(word1),len(word2))\n",
    "    for i in range((min_length)):\n",
    "        string += word1[i]\n",
    "        string += word2[i]\n",
    "    if len(word1)!=len(word2):\n",
    "        if min_length == len(word1):\n",
    "            w = word2\n",
    "        else :\n",
    "            w = word1\n",
    "        string += w[min_length:]\n",
    "    return string\n",
    "            \n",
    "    \n",
    "w1 = 'abcd'\n",
    "w2 = 'pq'\n",
    "print(merge(w1,w2))"
   ]
  },
  {
   "cell_type": "code",
   "execution_count": 57,
   "id": "3f3b49ef",
   "metadata": {},
   "outputs": [
    {
     "name": "stdout",
     "output_type": "stream",
     "text": [
      "EE\n"
     ]
    }
   ],
   "source": [
    "def gcd(s,t):\n",
    "    new =''\n",
    "    m = min(len(s),len(t))\n",
    "    if m == len(s):\n",
    "        small = list(s)\n",
    "    else:\n",
    "        small = list(t)\n",
    "    \n",
    "    for ele in small :\n",
    "        if ele in s :\n",
    "            if ele in t :\n",
    "                new += ele\n",
    "    return new\n",
    "s = 'LEET'\n",
    "t = 'CODE'\n",
    "print(gcd(s,t))"
   ]
  },
  {
   "cell_type": "markdown",
   "id": "b24f3560",
   "metadata": {},
   "source": [
    "## Kids With the Greatest Number of Candies"
   ]
  },
  {
   "cell_type": "markdown",
   "id": "e4e1980b",
   "metadata": {},
   "source": [
    "There are n kids with candies. You are given an integer array candies, where each candies[i] represents the number of candies the ith kid has, and an integer extraCandies, denoting the number of extra candies that you have.\n",
    "\n",
    "Return a boolean array result of length n, where result[i] is true if, after giving the ith kid all the extraCandies, they will have the greatest number of candies among all the kids, or false otherwise.\n",
    "\n",
    "Note that multiple kids can have the greatest number of candies."
   ]
  },
  {
   "cell_type": "code",
   "execution_count": 61,
   "id": "1a1a3dbf",
   "metadata": {},
   "outputs": [
    {
     "name": "stdout",
     "output_type": "stream",
     "text": [
      "[True, False, True]\n"
     ]
    }
   ],
   "source": [
    "def greatest_Candies(candies,extraCandies):\n",
    "    maximum_candies = max(candies)\n",
    "    for i in range(len(candies)) :\n",
    "        if candies[i] + extraCandies >= maximum_candies :\n",
    "            candies[i]= True\n",
    "        else :\n",
    "            candies[i]=False\n",
    "    return candies\n",
    "\n",
    "candies = [12,1,12]\n",
    "extraCandies = 10\n",
    "print(greatest_Candies(candies,extraCandies))"
   ]
  },
  {
   "cell_type": "code",
   "execution_count": null,
   "id": "57c841b3",
   "metadata": {},
   "outputs": [],
   "source": []
  }
 ],
 "metadata": {
  "kernelspec": {
   "display_name": "Python 3 (ipykernel)",
   "language": "python",
   "name": "python3"
  },
  "language_info": {
   "codemirror_mode": {
    "name": "ipython",
    "version": 3
   },
   "file_extension": ".py",
   "mimetype": "text/x-python",
   "name": "python",
   "nbconvert_exporter": "python",
   "pygments_lexer": "ipython3",
   "version": "3.11.5"
  }
 },
 "nbformat": 4,
 "nbformat_minor": 5
}
