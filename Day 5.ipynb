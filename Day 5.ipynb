{
 "cells": [
  {
   "cell_type": "markdown",
   "id": "403b2b5f",
   "metadata": {},
   "source": [
    " ## Reverse Words in a String"
   ]
  },
  {
   "cell_type": "markdown",
   "id": "45ae63a9",
   "metadata": {},
   "source": [
    "Given an input string s, reverse the order of the words.\n",
    "\n",
    "A word is defined as a sequence of non-space characters. The words in s will be separated by at least one space.\n",
    "\n",
    "Return a string of the words in reverse order concatenated by a single space.\n",
    "\n",
    "Note that s may contain leading or trailing spaces or multiple spaces between two words. The returned string should only have a single space separating the words. Do not include any extra spaces.\n",
    "\n",
    " "
   ]
  },
  {
   "cell_type": "code",
   "execution_count": 17,
   "id": "ec23c11f",
   "metadata": {},
   "outputs": [
    {
     "name": "stdout",
     "output_type": "stream",
     "text": [
      "example good a\n"
     ]
    }
   ],
   "source": [
    "def reverse_words(string):\n",
    "    string = string.strip()\n",
    "    string = string.split()\n",
    "    string.reverse()\n",
    "    return ' '.join(string)\n",
    "\n",
    "\n",
    "s = \"a good   example\"\n",
    "print(reverse_words(s))"
   ]
  },
  {
   "cell_type": "code",
   "execution_count": null,
   "id": "cc5f7ca7",
   "metadata": {},
   "outputs": [],
   "source": []
  },
  {
   "cell_type": "code",
   "execution_count": null,
   "id": "fc60bdfc",
   "metadata": {},
   "outputs": [],
   "source": []
  },
  {
   "cell_type": "code",
   "execution_count": 32,
   "id": "b7a428fc",
   "metadata": {},
   "outputs": [
    {
     "name": "stdout",
     "output_type": "stream",
     "text": [
      "1\n",
      "2\n",
      "6\n",
      "24\n",
      "None\n"
     ]
    }
   ],
   "source": [
    "def pro(a):\n",
    "    i = 0\n",
    "    pro = 1\n",
    "    while i < len(a):\n",
    "        pro *= a[i]\n",
    "        print(pro)\n",
    "        i+=1\n",
    "nums = [1,2,3,4]\n",
    "print(pro(nums))"
   ]
  },
  {
   "cell_type": "code",
   "execution_count": 66,
   "id": "00024104",
   "metadata": {},
   "outputs": [
    {
     "name": "stdout",
     "output_type": "stream",
     "text": [
      "-1 1 0 -3 3 3\n"
     ]
    }
   ],
   "source": [
    "import math\n",
    "arr = [-1,1,0,-3,3]\n",
    "for i in range(len(arr)):\n",
    "    print(arr[i],end=' ')\n",
    "ans = []\n",
    "\n",
    "\n",
    "print(arr.pop(i))\n",
    "        #print(f'i:{i}')\n",
    "        #product = math.prod(new)\n",
    "        #ans.append(product//1)\n",
    "    #else: \n",
    "       # product = math.prod(arr)\n",
    "       # ans.append(product//i)\n",
    "# display the result\n"
   ]
  },
  {
   "cell_type": "code",
   "execution_count": 35,
   "id": "3bb23fa2",
   "metadata": {},
   "outputs": [
    {
     "name": "stdout",
     "output_type": "stream",
     "text": [
      "5040\n"
     ]
    }
   ],
   "source": [
    "# import the numpy library as np\n",
    "import numpy as np\n",
    "\n",
    "arr = [2,4,7,9,10]\n",
    "product = np.prod(arr)\n",
    "\n",
    "#display result\n",
    "print(product)"
   ]
  },
  {
   "cell_type": "code",
   "execution_count": null,
   "id": "cdddf568",
   "metadata": {},
   "outputs": [],
   "source": []
  }
 ],
 "metadata": {
  "kernelspec": {
   "display_name": "Python 3 (ipykernel)",
   "language": "python",
   "name": "python3"
  },
  "language_info": {
   "codemirror_mode": {
    "name": "ipython",
    "version": 3
   },
   "file_extension": ".py",
   "mimetype": "text/x-python",
   "name": "python",
   "nbconvert_exporter": "python",
   "pygments_lexer": "ipython3",
   "version": "3.11.5"
  }
 },
 "nbformat": 4,
 "nbformat_minor": 5
}
