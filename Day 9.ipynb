{
 "cells": [
  {
   "cell_type": "markdown",
   "id": "fcd13187",
   "metadata": {},
   "source": [
    "### Product of Array Except Self"
   ]
  },
  {
   "cell_type": "markdown",
   "id": "aacc5eb1",
   "metadata": {},
   "source": [
    "Given an integer array nums, return an array answer such that answer[i] is equal to the product of all the elements of nums except nums[i].\n",
    "\n",
    "The product of any prefix or suffix of nums is guaranteed to fit in a 32-bit integer.\n",
    "\n",
    "You must write an algorithm that runs in O(n) time and without using the division operation.\n",
    "\n"
   ]
  },
  {
   "cell_type": "code",
   "execution_count": 20,
   "id": "334e58e7",
   "metadata": {},
   "outputs": [
    {
     "name": "stdout",
     "output_type": "stream",
     "text": [
      "[24, 12, 8, 6]\n"
     ]
    }
   ],
   "source": [
    "def productExceptSelf(nums):\n",
    "    length = len(nums)\n",
    "    prefix = [1] * length\n",
    "    suffix = [1] * length\n",
    "    answer = [0] * length\n",
    "    \n",
    "    # Calculate prefix products\n",
    "    for i in range(1, length):\n",
    "        prefix[i] = prefix[i - 1] * nums[i - 1]\n",
    "    #print(prefix)\n",
    "\n",
    "    # Calculate suffix products\n",
    "    for i in range(length - 2, -1, -1):\n",
    "        suffix[i] = suffix[i + 1] * nums[i + 1]\n",
    "   # print(suffix)\n",
    "    # Construct answer array\n",
    "    for i in range(length):\n",
    "        answer[i] = prefix[i] * suffix[i]\n",
    "    \n",
    "    return answer\n",
    "\n",
    "# Example usage:\n",
    "nums = [1, 2, 3, 4]\n",
    "print(productExceptSelf(nums))  # Output: [24, 12, 8, 6]\n"
   ]
  },
  {
   "cell_type": "code",
   "execution_count": null,
   "id": "fed990fe",
   "metadata": {},
   "outputs": [],
   "source": []
  },
  {
   "cell_type": "code",
   "execution_count": null,
   "id": "30da2639",
   "metadata": {},
   "outputs": [],
   "source": []
  }
 ],
 "metadata": {
  "kernelspec": {
   "display_name": "Python 3 (ipykernel)",
   "language": "python",
   "name": "python3"
  },
  "language_info": {
   "codemirror_mode": {
    "name": "ipython",
    "version": 3
   },
   "file_extension": ".py",
   "mimetype": "text/x-python",
   "name": "python",
   "nbconvert_exporter": "python",
   "pygments_lexer": "ipython3",
   "version": "3.11.5"
  }
 },
 "nbformat": 4,
 "nbformat_minor": 5
}
