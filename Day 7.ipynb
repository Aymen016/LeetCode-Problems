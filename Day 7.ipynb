{
 "cells": [
  {
   "cell_type": "code",
   "execution_count": 3,
   "id": "df4e48da",
   "metadata": {},
   "outputs": [
    {
     "name": "stdout",
     "output_type": "stream",
     "text": [
      "True\n"
     ]
    }
   ],
   "source": [
    "def can_place_flowers(flowerbed, n):\n",
    "    count = 0\n",
    "    i = 0\n",
    "    while i < len(flowerbed):\n",
    "        if flowerbed[i] == 0 and (i == 0 or flowerbed[i-1] == 0) and (i == len(flowerbed)-1 or flowerbed[i+1] == 0):\n",
    "            flowerbed[i] = 1\n",
    "            count += 1\n",
    "        i += 1\n",
    "    return count >= n\n",
    "\n",
    "    \n",
    "flowerbed = [1,0,0,0,1]\n",
    "n = 1\n",
    "print(can_place_flowers(flowerbed,n))"
   ]
  },
  {
   "cell_type": "markdown",
   "id": "67ad4600",
   "metadata": {},
   "source": [
    "<h1>Explanation:</h1>\n",
    "\n",
    "<br>\n",
    "<b>def can_place_flowers(flowerbed, n):</b>\n",
    "This line defines a function named can_place_flowers which takes two arguments: flowerbed, which is the array representing the flowerbed, and n, which is the number of new flowers to be planted.\n",
    "<br>\n",
    "<br>\n",
    "<b> count = 0 , i = 0 </b>\n",
    "Here, we initialize two variables: count to keep track of the number of newly planted flowers, and i as a loop counter which we'll use to iterate through the flowerbed array.\n",
    "<br>\n",
    "\n",
    "<b> while i < len(flowerbed): </b>\n",
    "This line starts a while loop which will iterate through each position of the flowerbed array.\n",
    "    <br>\n",
    "    <br>\n",
    "<b> if flowerbed[i] == 0 and (i == 0 or flowerbed[i-1] == 0) and (i == len(flowerbed)-1 or flowerbed[i+1] == 0):</b>\n",
    "Here, we check if the current position i in the flowerbed is empty (represented by 0) and if both its adjacent positions are also empty. We ensure we don't go out of bounds by checking i == 0 and i == len(flowerbed)-1 for the first and last positions respectively.\n",
    "    \n",
    "<br> \n",
    "<b>  flowerbed[i] = 1\n",
    "    count += 1 </b>\n",
    "If the conditions in the previous line are met, it means we can plant a flower in the current position i. So, we set the current position to 1 to indicate it's now planted with a flower, and we increment the count variable.\n",
    "        i += 1\n",
    "After processing the current position, we increment i to move to the next position in the flowerbed array.\n",
    "python\n",
    "<br>\n",
    "    \n",
    " <b>return count >= n </b>\n",
    "Finally, after iterating through the entire flowerbed array, we check if the count of newly planted flowers (count) is greater than or equal to the required number of flowers to be planted (n). If it is, we return True, indicating that it's possible to plant n flowers satisfying the given conditions. Otherwise, we return False."
   ]
  },
  {
   "cell_type": "code",
   "execution_count": null,
   "id": "c30c8f03",
   "metadata": {},
   "outputs": [],
   "source": []
  }
 ],
 "metadata": {
  "kernelspec": {
   "display_name": "Python 3 (ipykernel)",
   "language": "python",
   "name": "python3"
  },
  "language_info": {
   "codemirror_mode": {
    "name": "ipython",
    "version": 3
   },
   "file_extension": ".py",
   "mimetype": "text/x-python",
   "name": "python",
   "nbconvert_exporter": "python",
   "pygments_lexer": "ipython3",
   "version": "3.11.5"
  }
 },
 "nbformat": 4,
 "nbformat_minor": 5
}
